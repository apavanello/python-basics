{
 "cells": [
  {
   "cell_type": "markdown",
   "metadata": {},
   "source": [
    "## Tipos de Variaveis compostas"
   ]
  },
  {
   "cell_type": "markdown",
   "metadata": {},
   "source": [
    " **Listas (list):** São coleções ordenadas e mutáveis de itens. Podem conter itens de tipos diferentes.\n",
    "\n",
    "Identificador = [item1, item2, item3, ...]\n"
   ]
  },
  {
   "cell_type": "code",
   "execution_count": 10,
   "metadata": {},
   "outputs": [],
   "source": [
    "minha_lista = [\"abacaxi\", \"melancia\", \"abacate\"]\n",
    "minha_lista"
   ]
  },
  {
   "cell_type": "markdown",
   "metadata": {},
   "source": [
    "**Tuplas (tuple):** São coleções ordenadas e imutáveis de itens.\n",
    "\n",
    "Identificador = (item1, item2, item3, ...)"
   ]
  },
  {
   "cell_type": "code",
   "execution_count": 8,
   "metadata": {},
   "outputs": [],
   "source": [
    "coordenadas = (10, 20)\n",
    "coordenadas"
   ]
  },
  {
   "cell_type": "markdown",
   "metadata": {},
   "source": [
    "**Conjuntos (set):** São coleções não ordenadas de itens únicos.\n",
    "\n",
    "Identificador = {item1, item2, item3, ...}"
   ]
  },
  {
   "cell_type": "code",
   "execution_count": 7,
   "metadata": {},
   "outputs": [],
   "source": [
    "numeros_unicos = {1, 2, 3, 4, 5}\n",
    "numeros_unicos"
   ]
  },
  {
   "cell_type": "markdown",
   "metadata": {},
   "source": [
    " **Dicionários (dict):** São coleções de pares chave-valor. As chaves devem ser únicas e imutáveis.\n",
    "\n",
    "Identificador = {chave1: valor1, chave2: valor2, chave3: valor3, ...}"
   ]
  },
  {
   "cell_type": "code",
   "execution_count": null,
   "metadata": {},
   "outputs": [],
   "source": [
    "pessoa = {\n",
    "    \"nome\": \"Ana\",\n",
    "    \"idade\": 28,\n",
    "    \"profissao\": \"Professora\"\n",
    "}\n",
    "pessoa"
   ]
  },
  {
   "cell_type": "markdown",
   "metadata": {},
   "source": [
    " **Comparação entre Listas, Tuplas, Conjuntos e Dicionários**\n",
    "\n",
    "   | Característica       | Lista          | Tupla          | Conjunto       | Dicionário       |\n",
    "   |----------------------|----------------|----------------|----------------|------------------|\n",
    "   | Mutabilidade         | Mutável        | Imutável       | Mutável        | Mutável          |\n",
    "   | Ordenação            | Ordenada       | Ordenada       | Não ordenada   | Não ordenada     |\n",
    "   | Duplicação de Itens  | Permite        | Permite        | Não permite    | Chaves únicas    |\n",
    "   | Tipos de Itens       | Qualquer tipo  | Qualquer tipo  | Qualquer tipo  | Chave-valor      |\n",
    "   | Sintaxe de Criação   | `[1, 2, 3]`    | `(1, 2, 3)`    | `{1, 2, 3}`    | `{'a': 1, 'b': 2}` |\n",
    "\n"
   ]
  }
 ],
 "metadata": {
  "kernelspec": {
   "display_name": "Python 3 (ipykernel)",
   "language": "python",
   "name": "python3"
  }
 },
 "nbformat": 4,
 "nbformat_minor": 2
}
