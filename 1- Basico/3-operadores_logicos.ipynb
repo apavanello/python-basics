{
 "cells": [
  {
   "cell_type": "markdown",
   "metadata": {},
   "source": [
    "## Operadores Lógicos em Python"
   ]
  },
  {
   "cell_type": "markdown",
   "metadata": {},
   "source": [
    "**1. Operador `and` (e)** \n",
    "\n",
    "- **Definição**: Retorna `True` **somente se ambas as condições forem verdadeiras**.\n",
    "\n",
    "- **Tabela Verdade**:\n",
    "    | A     | B     | A `and` B |\n",
    "    | :---- | :---- | :-------- |\n",
    "    | True  | True  | **True** |\n",
    "    | True  | False | False     |\n",
    "    | False | True  | False     |\n",
    "    | False | False | False     |"
   ]
  },
  {
   "cell_type": "code",
   "execution_count": null,
   "metadata": {},
   "outputs": [],
   "source": [
    "print(True and True)    # True\n",
    "print(True and False)   # False\n",
    "print(False and True)   # False\n",
    "print(False and False)  # False"
   ]
  },
  {
   "cell_type": "markdown",
   "metadata": {},
   "source": [
    "**2. Operador `or` (ou)**\n",
    "\n",
    "-   **Definição**: Retorna `True` **se pelo menos uma condição for verdadeira**.\n",
    "-   **Tabela Verdade**:\n",
    "    | A     | B     | A `or` B |\n",
    "    | :---- | :---- | :------- |\n",
    "    | True  | True  | **True** |\n",
    "    | True  | False | **True** |\n",
    "    | False | True  | **True** |\n",
    "    | False | False | False    |"
   ]
  },
  {
   "cell_type": "code",
   "execution_count": null,
   "metadata": {},
   "outputs": [],
   "source": [
    "print(True or True)    # True\n",
    "print(True or False)   # True\n",
    "print(False or True)   # True\n",
    "print(False or False)  # False"
   ]
  },
  {
   "cell_type": "markdown",
   "metadata": {},
   "source": [
    "**3. Operador `not` (não)**\n",
    "\n",
    "-   **Definição**: Inverte o valor booleano (`True` se torna `False`, e vice-versa).\n",
    "-   **Tabela Verdade**:\n",
    "    | A     | `not` A |\n",
    "    | :---- | :------ |\n",
    "    | True  | False   |\n",
    "    | False | **True** |\n"
   ]
  },
  {
   "cell_type": "code",
   "execution_count": null,
   "metadata": {},
   "outputs": [],
   "source": [
    "print(not True)  # False\n",
    "print(not False) # True"
   ]
  },
  {
   "cell_type": "markdown",
   "metadata": {},
   "source": [
    "**Combinando Operadores**\n",
    "\n",
    "Você pode combinar `and`, `or` e `not` para criar condições complexas."
   ]
  },
  {
   "cell_type": "code",
   "execution_count": null,
   "metadata": {},
   "outputs": [],
   "source": [
    "print(True and not False) # True\n",
    "print(not True or False)  # False\n",
    "print(not False and True) # True\n",
    "print(not True and False) # False\n"
   ]
  },
  {
   "cell_type": "markdown",
   "metadata": {},
   "source": [
    "**Avaliação de Curto-Circuito**\n",
    "\n",
    "-   Python avalia expressões lógicas da esquerda para a direita.\n",
    "-   Se a expressão for `False` e o operador for `and`, Python não avalia a expressão à direita."
   ]
  },
  {
   "cell_type": "code",
   "execution_count": 20,
   "metadata": {},
   "outputs": [],
   "source": [
    "True or print(\"Este texto não será exibido\")"
   ]
  }
 ],
 "metadata": {
  "kernelspec": {
   "display_name": "Python 3 (ipykernel)",
   "language": "python",
   "name": "python3"
  }
 },
 "nbformat": 4,
 "nbformat_minor": 2
}
