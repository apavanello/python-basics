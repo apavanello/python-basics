{
 "cells": [
  {
   "cell_type": "markdown",
   "metadata": {},
   "source": [
    "## **Conversão de Tipo em Python**\n",
    "A conversão de tipo permite converter dados de um tipo para outro. Python suporta conversões **explícitas** (manuais) e **implícitas** (automáticas)."
   ]
  },
  {
   "cell_type": "markdown",
   "metadata": {
    "vscode": {
     "languageId": "plaintext"
    }
   },
   "source": [
    "### **1. Conversão Explícita**\n",
    "Use funções embutidas para forçar uma conversão:"
   ]
  },
  {
   "cell_type": "markdown",
   "metadata": {},
   "source": [
    "1.1. **`int()`**: Converter para inteiro"
   ]
  },
  {
   "cell_type": "code",
   "execution_count": null,
   "metadata": {},
   "outputs": [],
   "source": [
    "num_str = \"123\"\n",
    "num_int = int(num_str)  # String → Inteiro\n",
    "print(num_int)\n",
    "type(num_int)"
   ]
  },
  {
   "cell_type": "markdown",
   "metadata": {},
   "source": [
    "1.2. **`float()`**: Converter para ponto flutuante"
   ]
  },
  {
   "cell_type": "code",
   "execution_count": null,
   "metadata": {},
   "outputs": [],
   "source": [
    "int_num = 100\n",
    "as_float = float(int_num)  # Inteiro → Float\n",
    "print(as_float)  # 100.0\n",
    "type(as_float)"
   ]
  },
  {
   "cell_type": "markdown",
   "metadata": {},
   "source": [
    "1.3. **`str()`**: Converter para string"
   ]
  },
  {
   "cell_type": "code",
   "execution_count": null,
   "metadata": {},
   "outputs": [],
   "source": [
    "age = 25\n",
    "age_str = str(age)  # Inteiro → String\n",
    "print(\"Idade: \" + age_str)  # \"Idade: 25\"\n",
    "type(age_str)"
   ]
  },
  {
   "cell_type": "markdown",
   "metadata": {},
   "source": []
  },
  {
   "cell_type": "markdown",
   "metadata": {},
   "source": [
    "1.4.  **`bool()`**: Converter para booleano"
   ]
  },
  {
   "cell_type": "code",
   "execution_count": null,
   "metadata": {},
   "outputs": [],
   "source": [
    "# Strings não vazias → True\n",
    "print(bool(\"Oi\")) # True\n",
    "print(bool(\"\"))   # False"
   ]
  },
  {
   "cell_type": "markdown",
   "metadata": {},
   "source": [
    "### **2. Conversão Implícita**\n",
    "Python converte automaticamente os tipos durante as operações:"
   ]
  },
  {
   "cell_type": "code",
   "execution_count": null,
   "metadata": {},
   "outputs": [],
   "source": [
    "# Inteiro + Float → Float\n",
    "result = 5 + 3.14\n",
    "print(result, type(result))  # 8.14 <class 'float'>\n"
   ]
  },
  {
   "cell_type": "code",
   "execution_count": null,
   "metadata": {},
   "outputs": [],
   "source": [
    "# Inteiro + Booleano → Inteiro (True = 1, False = 0)\n",
    "total = 10 + True\n",
    "print(total)  # 11"
   ]
  },
  {
   "cell_type": "markdown",
   "metadata": {},
   "source": [
    "## EXTRA - formatação de strings"
   ]
  },
  {
   "cell_type": "code",
   "execution_count": null,
   "metadata": {},
   "outputs": [],
   "source": [
    "price = 19.99\n",
    "quantity = 3\n",
    "message = f\"Total: R${price * quantity:.2f}\"  # Float → String\n",
    "print(message)  # \"Total: R$59.97\""
   ]
  }
 ],
 "metadata": {
  "kernelspec": {
   "display_name": "Python 3 (ipykernel)",
   "language": "python",
   "name": "python3"
  },
  "language_info": {
   "codemirror_mode": {
    "name": "ipython",
    "version": 3
   },
   "file_extension": ".py",
   "mimetype": "text/x-python",
   "name": "python",
   "nbconvert_exporter": "python",
   "pygments_lexer": "ipython3",
   "version": "3.12.9"
  }
 },
 "nbformat": 4,
 "nbformat_minor": 2
}
