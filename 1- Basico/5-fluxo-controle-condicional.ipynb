{
 "cells": [
  {
   "cell_type": "markdown",
   "metadata": {},
   "source": [
    "**Controle de Fluxo em Python**\n",
    "\n",
    "Estruturas de controle de fluxo permitem que você execute código condicionalmente ou repetidamente."
   ]
  },
  {
   "cell_type": "markdown",
   "metadata": {},
   "source": [
    "1.  **Declarações Condicionais (if, elif, else)**\n",
    "    * Usadas para executar código baseado em condições booleanas.\n"
   ]
  },
  {
   "cell_type": "markdown",
   "metadata": {},
   "source": [
    "**Declaração `if` Básica**"
   ]
  },
  {
   "cell_type": "code",
   "execution_count": null,
   "metadata": {},
   "outputs": [],
   "source": [
    "idade = 18\n",
    "if idade >= 18:\n",
    "    print(\"Você é um adulto!\")"
   ]
  },
  {
   "cell_type": "markdown",
   "metadata": {},
   "source": [
    "**`if-else`**"
   ]
  },
  {
   "cell_type": "code",
   "execution_count": null,
   "metadata": {},
   "outputs": [],
   "source": [
    "temperatura = 30\n",
    "if temperatura > 25:\n",
    "    print(\"Está quente!\")\n",
    "else:\n",
    "    print(\"Está fresco!\")"
   ]
  },
  {
   "cell_type": "markdown",
   "metadata": {},
   "source": [
    "**`if-elif-else`**"
   ]
  },
  {
   "cell_type": "code",
   "execution_count": null,
   "metadata": {},
   "outputs": [],
   "source": [
    "temperatura = 30\n",
    "if temperatura > 25:\n",
    "    print(\"Está quente!\")\n",
    "elif temperatura > 15:\n",
    "    print(\"Está fresco!\")\n",
    "else:\n",
    "    print(\"Está frio!\")"
   ]
  },
  {
   "cell_type": "markdown",
   "metadata": {},
   "source": [
    "**early return**\n",
    "\n",
    "Serve para evitar aninhamento de if-else, retorna de uma função se a condição for verdadeira."
   ]
  },
  {
   "cell_type": "code",
   "execution_count": null,
   "metadata": {},
   "outputs": [],
   "source": [
    "def verificar_elegibilidade(idade, renda):\n",
    "    # Early return se a pessoa não tem idade mínima\n",
    "    if idade < 18:\n",
    "        return \"Não elegível: Idade mínima não atingida.\"\n",
    "    \n",
    "    # Early return se a renda for insuficiente\n",
    "    if renda < 2000:\n",
    "        return \"Não elegível: Renda insuficiente.\"\n",
    "    \n",
    "    # Se passar pelas verificações anteriores, a pessoa é elegível\n",
    "    return \"Elegível para o programa!\"\n",
    "\n",
    "# Testando diferentes cenários\n",
    "print(verificar_elegibilidade(16, 3000))  # Retorna cedo por causa da idade\n",
    "print(verificar_elegibilidade(25, 1500))  # Retorna cedo por causa da renda\n",
    "print(verificar_elegibilidade(30, 5000))  # Passa por todas verificações"
   ]
  },
  {
   "cell_type": "markdown",
   "metadata": {},
   "source": [
    "**Operador Ternário**\n",
    "* Uma forma concisa de expressar uma declaração `if-else` em uma única linha. "
   ]
  },
  {
   "cell_type": "code",
   "execution_count": null,
   "metadata": {},
   "outputs": [],
   "source": [
    "idade = 18\n",
    "status = \"Adulto\" if idade >= 18 else \"Menor de idade\"\n",
    "print(f\"Status: {status}\")"
   ]
  }
 ],
 "metadata": {
  "kernelspec": {
   "display_name": "Python 3 (ipykernel)",
   "language": "python",
   "name": "python3"
  },
  "language_info": {
   "codemirror_mode": {
    "name": "ipython",
    "version": 3
   },
   "file_extension": ".py",
   "mimetype": "text/x-python",
   "name": "python",
   "nbconvert_exporter": "python",
   "pygments_lexer": "ipython3",
   "version": "3.12.9"
  }
 },
 "nbformat": 4,
 "nbformat_minor": 2
}
