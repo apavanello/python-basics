{
 "cells": [
  {
   "cell_type": "markdown",
   "metadata": {},
   "source": [
    "**Controle de Fluxo em Python**\n",
    "\n",
    "Estruturas de controle de fluxo permitem que você execute código condicionalmente ou repetidamente."
   ]
  },
  {
   "cell_type": "markdown",
   "metadata": {},
   "source": [
    "* **Loop `for`**\n",
    "    * Itera sobre sequências (listas, strings, intervalos).\n"
   ]
  },
  {
   "cell_type": "code",
   "execution_count": null,
   "metadata": {},
   "outputs": [],
   "source": [
    "frutas = [\"maçã\", \"banana\", \"cereja\"]\n",
    "for fruta in frutas:\n",
    "    print(fruta)"
   ]
  },
  {
   "cell_type": "markdown",
   "metadata": {},
   "source": [
    "**Loop `while`**\n",
    "* Executa um bloco de código enquanto uma condição é verdadeira."
   ]
  },
  {
   "cell_type": "code",
   "execution_count": null,
   "metadata": {},
   "outputs": [],
   "source": [
    "contagem = 5\n",
    "while contagem > 0:\n",
    "    print(contagem)  # 5 → 4 → 3 → 2 → 1\n",
    "    contagem -= 1\n",
    "print(\"Decolar! 🚀\")"
   ]
  },
  {
   "cell_type": "markdown",
   "metadata": {},
   "source": [
    "**Declarações de Controle de Loop**\n"
   ]
  },
  {
   "cell_type": "markdown",
   "metadata": {},
   "source": [
    "**`break`**\n",
    "* Sai do loop imediatamente."
   ]
  },
  {
   "cell_type": "code",
   "execution_count": null,
   "metadata": {},
   "outputs": [],
   "source": [
    "numeros = [1, 2, 3, 4, 5]\n",
    "for num in numeros:\n",
    "    if num == 3:\n",
    "        break  # Para o loop\n",
    "    print(num)  # Saída: 1 → 2"
   ]
  },
  {
   "cell_type": "markdown",
   "metadata": {},
   "source": [
    "**`continue`**\n",
    "* Pula a iteração atual e continua com a próxima.\n"
   ]
  },
  {
   "cell_type": "code",
   "execution_count": null,
   "metadata": {},
   "outputs": [],
   "source": [
    "for num in range(6):\n",
    "    if num % 2 == 0:\n",
    "        continue  # Pula números pares\n",
    "    print(num)  # Saída: 1 → 3 → 5"
   ]
  }
 ],
 "metadata": {
  "kernelspec": {
   "display_name": "Python 3 (ipykernel)",
   "language": "python",
   "name": "python3"
  },
  "language_info": {
   "codemirror_mode": {
    "name": "ipython",
    "version": 3
   },
   "file_extension": ".py",
   "mimetype": "text/x-python",
   "name": "python",
   "nbconvert_exporter": "python",
   "pygments_lexer": "ipython3",
   "version": "3.12.9"
  }
 },
 "nbformat": 4,
 "nbformat_minor": 2
}
