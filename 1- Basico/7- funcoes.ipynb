{
  "cells": [
    {
      "cell_type": "markdown",
      "metadata": {
        "id": "cKE-y8p-gkdp"
      },
      "source": [
        "**funções em Python**\n",
        "Funções são blocos de código reutilizáveis que realizam tarefas específicas. Elas melhoram a modularidade e reduzem a redundância.\n",
        "\n",
        "---\n",
        "\n",
        "### **1. Definindo Funções**\n",
        "Use `def` para definir uma função:"
      ]
    },
    {
      "cell_type": "code",
      "execution_count": null,
      "metadata": {
        "id": "AVG0224Ggkdu"
      },
      "outputs": [],
      "source": [
        "def saudacao():\n",
        "    print(\"Olá! Bem-vindo ao Python.\")\n",
        "\n",
        "# Chamar a função\n",
        "saudacao()  # Saída: Olá! Bem-vindo ao Python."
      ]
    },
    {
      "cell_type": "markdown",
      "metadata": {
        "id": "DUps8RYQgkdw"
      },
      "source": [
        "---\n",
        "\n",
        "### **2. Parâmetros e Argumentos**\n",
        "#### **Parâmetros Básicos**"
      ]
    },
    {
      "cell_type": "code",
      "execution_count": null,
      "metadata": {
        "id": "tHRTsjABgkdx"
      },
      "outputs": [],
      "source": [
        "def somar(a, b):\n",
        "    return a + b\n",
        "\n",
        "resultado = somar(3, 5)\n",
        "print(resultado)  # Saída: 8"
      ]
    },
    {
      "cell_type": "markdown",
      "metadata": {
        "id": "6yuHbJd7gkdx"
      },
      "source": [
        "#### **Parâmetros Padrão**"
      ]
    },
    {
      "cell_type": "code",
      "execution_count": null,
      "metadata": {
        "id": "4janLuTEgkdy"
      },
      "outputs": [],
      "source": [
        "def saudacao(nome=\"Convidado\"):\n",
        "    print(f\"Olá, {nome}!\")\n",
        "\n",
        "saudacao(\"Alice\")  # Olá, Alice!\n",
        "saudacao()          # Olá, Convidado!"
      ]
    },
    {
      "cell_type": "markdown",
      "metadata": {
        "id": "aCXNPyAvgkdy"
      },
      "source": [
        "#### **Argumentos Nomeados (Keyword Arguments)**"
      ]
    },
    {
      "cell_type": "code",
      "execution_count": null,
      "metadata": {
        "id": "cB-JDb0Wgkdz"
      },
      "outputs": [],
      "source": [
        "def descrever_pet(nome_pet, animal=\"cachorro\"):\n",
        "    print(f\"Eu tenho um {animal} chamado {nome_pet}.\")\n",
        "\n",
        "descrever_pet(animal=\"gato\", nome_pet=\"Whiskers\")  # Eu tenho um gato chamado Whiskers."
      ]
    },
    {
      "cell_type": "markdown",
      "metadata": {
        "id": "qTTaPHDYgkdz"
      },
      "source": [
        "---\n",
        "\n",
        "### **3. Valores de Retorno**\n",
        "Use `return` para enviar dados de volta:"
      ]
    },
    {
      "cell_type": "code",
      "execution_count": null,
      "metadata": {
        "id": "jlaH--KAgkdz"
      },
      "outputs": [],
      "source": [
        "def eh_par(num):\n",
        "    return num % 2 == 0\n",
        "\n",
        "print(eh_par(4))  # True"
      ]
    },
    {
      "cell_type": "markdown",
      "metadata": {
        "id": "X0ZLHdXggkd0"
      },
      "source": [
        "#### **Retornando Múltiplos Valores**"
      ]
    },
    {
      "cell_type": "code",
      "execution_count": null,
      "metadata": {
        "id": "crGEl5uggkd0"
      },
      "outputs": [],
      "source": [
        "def calculadora(a, b):\n",
        "    return a + b, a - b, a * b\n",
        "\n",
        "soma, diferenca, produto = calculadora(10, 5)\n",
        "print(soma, diferenca, produto)  # 15 5 50"
      ]
    },
    {
      "cell_type": "markdown",
      "metadata": {
        "id": "xSmAy0Cugkd0"
      },
      "source": [
        "---\n",
        "\n",
        "### **4. Argumentos de Tamanho Variável**\n",
        "#### **`*args` (Argumentos Arbitrários)**"
      ]
    },
    {
      "cell_type": "code",
      "execution_count": null,
      "metadata": {
        "id": "bDbTKnGngkd0"
      },
      "outputs": [],
      "source": [
        "def media(*nums):\n",
        "    return sum(nums) / len(nums)\n",
        "\n",
        "print(media(10, 20, 30))  # 20.0"
      ]
    },
    {
      "cell_type": "markdown",
      "metadata": {
        "id": "Hn9pW252gkd1"
      },
      "source": [
        "#### **`**kwargs` (Argumentos Nomeados)**"
      ]
    },
    {
      "cell_type": "code",
      "execution_count": null,
      "metadata": {
        "id": "CZK7A7zkgkd1"
      },
      "outputs": [],
      "source": [
        "def perfil_usuario(**detalhes):\n",
        "    for chave, valor in detalhes.items():\n",
        "        print(f\"{chave}: {valor}\")\n",
        "\n",
        "perfil_usuario(nome=\"Alice\", idade=25, cidade=\"Paris\")\n",
        "# Saída:\n",
        "# nome: Alice\n",
        "# idade: 25\n",
        "# cidade: Paris"
      ]
    },
    {
      "cell_type": "markdown",
      "metadata": {
        "id": "TSZoJVVggkd1"
      },
      "source": [
        "---\n",
        "\n",
        "### **5. Funções Lambda**\n",
        "Funções anônimas definidas com `lambda`:"
      ]
    },
    {
      "cell_type": "code",
      "execution_count": null,
      "metadata": {
        "id": "WIq_R9NLgkd1"
      },
      "outputs": [],
      "source": [
        "quadrado = lambda x: x ** 2\n",
        "print(quadrado(5))  # 25\n",
        "\n",
        "# Equivalente a:\n",
        "def quadrado(x):\n",
        "    return x ** 2"
      ]
    },
    {
      "cell_type": "markdown",
      "metadata": {
        "id": "HaZedakTgkd1"
      },
      "source": [
        "---\n",
        "\n",
        "### **6. Escopo e Variáveis Globais**\n",
        "#### **Escopo Local vs Global**"
      ]
    },
    {
      "cell_type": "code",
      "execution_count": null,
      "metadata": {
        "id": "htDd0UcYgkd2"
      },
      "outputs": [],
      "source": [
        "x = 10  # Variável global\n",
        "\n",
        "def teste():\n",
        "    x = 5  # Variável local\n",
        "    print(x)  # 5\n",
        "\n",
        "teste()\n",
        "print(x)  # 10 (global não alterada)"
      ]
    },
    {
      "cell_type": "markdown",
      "metadata": {
        "id": "UN_Izr0wgkd2"
      },
      "source": [
        "#### **Modificar Variáveis Globais**"
      ]
    },
    {
      "cell_type": "code",
      "execution_count": null,
      "metadata": {
        "id": "Taw2HfjOgkd2"
      },
      "outputs": [],
      "source": [
        "contagem = 0\n",
        "\n",
        "def incrementar():\n",
        "    global contagem\n",
        "    contagem += 1\n",
        "\n",
        "incrementar()\n",
        "print(contagem)  # 1"
      ]
    },
    {
      "cell_type": "markdown",
      "metadata": {
        "id": "kOO9E4Hngkd2"
      },
      "source": [
        "---\n",
        "\n",
        "### **7. Docstrings**\n",
        "Adicione documentação às suas funções:"
      ]
    },
    {
      "cell_type": "code",
      "execution_count": null,
      "metadata": {
        "id": "zmywVdcxgkd2"
      },
      "outputs": [],
      "source": [
        "def fatorial(n):\n",
        "    \"\"\"\n",
        "    Calcula o fatorial de um número.\n",
        "\n",
        "    Args:\n",
        "        n (int): Um inteiro não negativo.\n",
        "\n",
        "    Returns:\n",
        "        int: O fatorial de n.\n",
        "    \"\"\"\n",
        "    if n == 0:\n",
        "        return 1\n",
        "    return n * fatorial(n-1)\n",
        "\n",
        "print(fatorial.__doc__)  # Visualiza a docstring"
      ]
    },
    {
      "cell_type": "markdown",
      "metadata": {
        "id": "WkWQ5PuPgkd2"
      },
      "source": [
        "---\n",
        "\n",
        "### **8. Erros Comuns**\n",
        "#### **Argumentos Padrão Mutáveis**"
      ]
    },
    {
      "cell_type": "code",
      "execution_count": null,
      "metadata": {
        "id": "OPhbBrEAgkd2"
      },
      "outputs": [],
      "source": [
        "# Evite isto!\n",
        "def adicionar_item(item, itens=[]):\n",
        "    itens.append(item)\n",
        "    return itens\n",
        "\n",
        "print(adicionar_item(1))  # [1]\n",
        "print(adicionar_item(2))  # [1, 2] (mantém valores anteriores)\n",
        "\n",
        "# Correção: Use None como padrão\n",
        "def adicionar_item(item, itens=None):\n",
        "    if itens is None:\n",
        "        itens = []\n",
        "    itens.append(item)\n",
        "    return itens"
      ]
    }
  ],
  "metadata": {
    "colab": {
      "provenance": []
    },
    "kernelspec": {
      "display_name": "Python 3 (ipykernel)",
      "language": "python",
      "name": "python3"
    }
  },
  "nbformat": 4,
  "nbformat_minor": 0
}
