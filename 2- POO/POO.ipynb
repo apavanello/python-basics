{
  "cells": [
    {
      "cell_type": "markdown",
      "metadata": {
        "id": "J_J8z5O4ideD"
      },
      "source": [
        "## **POO em Python: Conceitos Essenciais e Exemplos**\n",
        "POO organiza o código em estruturas reutilizáveis e modulares chamadas **classes** e **objetos**. Python suporta todos os quatro pilares da POO:\n",
        "- **Encapsulamento**\n",
        "- **Herança**\n",
        "- **Polimorfismo**\n",
        "- **Abstração**\n",
        "\n",
        "---\n",
        "\n",
        "### **1. Classes e Objetos**\n",
        "#### **Classe**: Um modelo para criar objetos.\n",
        "#### **Objeto**: Uma instância de uma classe.\n",
        "\n",
        "**Exemplo**:"
      ]
    },
    {
      "cell_type": "code",
      "execution_count": null,
      "metadata": {
        "id": "QrrewUwIideI"
      },
      "outputs": [],
      "source": [
        "class Cachorro:\n",
        "    # Atributo de classe (compartilhado por todas as instâncias)\n",
        "    especie = \"Canis familiaris\"\n",
        "\n",
        "    # Construtor (__init__ method)\n",
        "    def __init__(self, nome, idade):\n",
        "        # Atributos de instância\n",
        "        self.nome = nome\n",
        "        self.idade = idade\n",
        "\n",
        "    # Método de instância\n",
        "    def latir(self):\n",
        "        print(f\"{self.nome} diz Au!\")\n",
        "\n",
        "# Criar objetos (instâncias)\n",
        "cachorro1 = Cachorro(\"Buddy\", 3)\n",
        "cachorro2 = Cachorro(\"Max\", 5)\n",
        "\n",
        "cachorro1.latir()  # Saída: Buddy diz Au!\n",
        "print(cachorro2.especie)  # Saída: Canis familiaris"
      ]
    },
    {
      "cell_type": "markdown",
      "metadata": {
        "id": "Mdy8F8t9ideJ"
      },
      "source": [
        "---\n",
        "\n",
        "### **2. Herança**\n",
        "Crie uma **classe filha** que herda atributos/métodos de uma **classe pai**.\n",
        "\n",
        "**Exemplo**:"
      ]
    },
    {
      "cell_type": "code",
      "execution_count": null,
      "metadata": {
        "id": "HKvkDLpGideK"
      },
      "outputs": [],
      "source": [
        "class GoldenRetriever(Cachorro):  # Herda de Cachorro\n",
        "    def __init__(self, nome, idade, cor=\"dourado\"):\n",
        "        super().__init__(nome, idade)  # Chama o construtor pai\n",
        "        self.cor = cor\n",
        "\n",
        "    # Sobrescrita de método\n",
        "    def latir(self):\n",
        "        print(f\"{self.nome} diz Au Gentil!\")\n",
        "\n",
        "    # Novo método\n",
        "    def buscar(self):\n",
        "        print(f\"{self.nome} busca a bola!\")\n",
        "\n",
        "cachorro3 = GoldenRetriever(\"Charlie\", 2)\n",
        "cachorro3.latir()  # Saída: Charlie diz Au Gentil!\n",
        "cachorro3.buscar()  # Saída: Charlie busca a bola!"
      ]
    },
    {
      "cell_type": "markdown",
      "metadata": {
        "id": "QPPC-rHCideK"
      },
      "source": [
        "---\n",
        "\n",
        "### **3. Polimorfismo**\n",
        "#### **Polimorfismo de Classe**: Métodos com o mesmo nome se comportam de maneira diferente em classes diferentes.\n",
        "#### **Polimorfismo de Interface**: Classes diferentes implementam o mesmo método.\n",
        "\n",
        "**Exemplo**:"
      ]
    },
    {
      "cell_type": "code",
      "execution_count": null,
      "metadata": {
        "id": "I6AqpOH0ideK"
      },
      "outputs": [],
      "source": [
        "class Gato:\n",
        "    def __init__(self, nome):\n",
        "        self.nome = nome\n",
        "\n",
        "    def falar(self):\n",
        "        print(f\"{self.nome} diz Miau!\")\n",
        "\n",
        "class Pato:\n",
        "    def __init__(self, nome):\n",
        "        self.nome = nome\n",
        "\n",
        "    def falar(self):\n",
        "        print(f\"{self.nome} diz Quack!\")\n",
        "\n",
        "# Função polimórfica\n",
        "def som_animal(animal):\n",
        "    animal.falar()\n",
        "\n",
        "gato = Gato(\"Whiskers\")\n",
        "pato = Pato(\"Donald\")\n",
        "\n",
        "som_animal(gato)   # Saída: Whiskers diz Miau!\n",
        "som_animal(pato)  # Saída: Donald diz Quack!"
      ]
    },
    {
      "cell_type": "markdown",
      "metadata": {
        "id": "F6IAeK7uideL"
      },
      "source": [
        "---\n",
        "\n",
        "### **4. Encapsulamento**\n",
        "Restrinja o acesso direto aos dados usando **variáveis/métodos privados** (prefixados com `_` ou `__`).\n",
        "\n",
        "**Exemplo**:"
      ]
    },
    {
      "cell_type": "code",
      "execution_count": null,
      "metadata": {
        "id": "4G5iLI-pideL"
      },
      "outputs": [],
      "source": [
        "class ContaBancaria:\n",
        "    def __init__(self, saldo):\n",
        "        self.__saldo = saldo  # Atributo privado\n",
        "\n",
        "    # Método getter\n",
        "    def obter_saldo(self):\n",
        "        return self.__saldo\n",
        "\n",
        "    # Método setter\n",
        "    def depositar(self, valor):\n",
        "        if valor > 0:\n",
        "            self.__saldo += valor\n",
        "\n",
        "conta = ContaBancaria(1000)\n",
        "conta.depositar(500)\n",
        "print(conta.obter_saldo())  # Saída: 1500\n",
        "# print(conta.__saldo)  ❌ Erro (atributo privado)"
      ]
    },
    {
      "cell_type": "markdown",
      "metadata": {
        "id": "jAOVvpD-ideM"
      },
      "source": [
        "---\n",
        "\n",
        "### **5. Abstração**\n",
        "Oculte a lógica complexa e exponha apenas os recursos essenciais usando **classes abstratas**.\n",
        "\n",
        "**Exemplo**:"
      ]
    },
    {
      "cell_type": "code",
      "execution_count": null,
      "metadata": {
        "id": "mddTbyLcideM"
      },
      "outputs": [],
      "source": [
        "from abc import ABC, abstractmethod\n",
        "\n",
        "# Classe abstrata\n",
        "class Forma(ABC):\n",
        "    @abstractmethod\n",
        "    def area(self):\n",
        "        pass\n",
        "\n",
        "    @abstractmethod\n",
        "    def perimetro(self):\n",
        "        pass\n",
        "\n",
        "class Circulo(Forma):\n",
        "    def __init__(self, raio):\n",
        "        self.raio = raio\n",
        "\n",
        "    def area(self):\n",
        "        return 3.14 * self.raio ** 2\n",
        "\n",
        "    def perimetro(self):\n",
        "        return 2 * 3.14 * self.raio\n",
        "\n",
        "# forma = Forma()  ❌ Erro (não pode instanciar classe abstrata)\n",
        "circulo = Circulo(7)\n",
        "print(circulo.area())  # Saída: 153.86"
      ]
    },
    {
      "cell_type": "markdown",
      "metadata": {
        "id": "Og-rGL7FideN"
      },
      "source": [
        "---\n",
        "\n",
        "### **6. Métodos Mágicos (Dunder Methods)**\n",
        "Métodos especiais como `__str__`, `__len__`, etc., para definir o comportamento do objeto.\n",
        "\n",
        "**Exemplo**:"
      ]
    },
    {
      "cell_type": "code",
      "execution_count": null,
      "metadata": {
        "id": "5N0sxQDbideN"
      },
      "outputs": [],
      "source": [
        "class Livro:\n",
        "    def __init__(self, titulo, autor, paginas):\n",
        "        self.titulo = titulo\n",
        "        self.autor = autor\n",
        "        self.paginas = paginas\n",
        "\n",
        "    def __str__(self):\n",
        "        return f\"{self.titulo} por {self.autor}\"\n",
        "\n",
        "    def __len__(self):\n",
        "        return self.paginas\n",
        "\n",
        "livro = Livro(\"Python Crash Course\", \"Eric Matthes\", 544)\n",
        "print(livro)     # Saída: Python Crash Course por Eric Matthes\n",
        "print(len(livro))  # Saída: 544"
      ]
    },
    {
      "cell_type": "markdown",
      "metadata": {
        "id": "HnxHLA0SideN"
      },
      "source": [
        "---\n",
        "\n",
        "### **7. Composição vs. Herança**\n",
        "**Composição**: Em vez de herdar de uma classe pai, uma classe contém instâncias de outras classes. Favorece a \"composição sobre herança\" quando apropriado.\n",
        "\n",
        "\n",
        "**Herança**: Relação \"É-um\" (ex., `GoldenRetriever` **é um** `Cachorro`).\n",
        "\n",
        "**Composição**: Relação \"Tem-um\" (ex., `Carro` **tem um** `Motor`).\n",
        "\n",
        "**Exemplo**:"
      ]
    },
    {
      "cell_type": "code",
      "execution_count": null,
      "metadata": {
        "id": "sLXxymX9ideN"
      },
      "outputs": [],
      "source": [
        "class Motor:\n",
        "    def iniciar(self):\n",
        "        print(\"Motor iniciado\")\n",
        "\n",
        "class Carro:\n",
        "    def __init__(self):\n",
        "        self.motor = Motor()  # Composição\n",
        "\n",
        "    def iniciar(self):\n",
        "        self.motor.iniciar()\n",
        "\n",
        "carro = Carro()\n",
        "carro.iniciar()  # Saída: Motor iniciado"
      ]
    },
    {
      "cell_type": "code",
      "execution_count": null,
      "metadata": {},
      "outputs": [
        {
          "name": "stdout",
          "output_type": "stream",
          "text": [
            "Carro: Toyota Corolla (2022)\n",
            "Motor combustão ligado. Temperatura: 50°C\n",
            "Transmissão em marcha 1\n",
            "Velocidade atual: 20 km/h\n",
            "Transmissão em marcha 0\n",
            "Motor combustão desligado.\n"
          ]
        }
      ],
      "source": [
        "# Exemplo detalhado de composição\n",
        "\n",
        "class Motor:\n",
        "    def __init__(self, tipo=\"combustão\"):\n",
        "        self.tipo = tipo\n",
        "        self.temperatura = 0\n",
        "        self.ligado = False\n",
        "    \n",
        "    def ligar(self):\n",
        "        if not self.ligado:\n",
        "            self.ligado = True\n",
        "            self.temperatura = 50\n",
        "            print(f\"Motor {self.tipo} ligado. Temperatura: {self.temperatura}°C\")\n",
        "        else:\n",
        "            print(\"O motor já está ligado!\")\n",
        "    \n",
        "    def desligar(self):\n",
        "        if self.ligado:\n",
        "            self.ligado = False\n",
        "            self.temperatura = 0\n",
        "            print(f\"Motor {self.tipo} desligado.\")\n",
        "        else:\n",
        "            print(\"O motor já está desligado!\")\n",
        "class Transmissao:\n",
        "    def __init__(self, tipo=\"manual\", marchas=5):\n",
        "        self.tipo = tipo\n",
        "        self.marchas = marchas\n",
        "        self.marcha_atual = 0\n",
        "    \n",
        "    def trocar_marcha(self, marcha):\n",
        "        if 0 <= marcha <= self.marchas:\n",
        "            self.marcha_atual = marcha\n",
        "            print(f\"Transmissão em marcha {marcha}\")\n",
        "        else:\n",
        "            print(f\"Marcha inválida. Faixa válida: 0-{self.marchas}\")\n",
        "\n",
        "class Carro:\n",
        "    def __init__(self, marca, modelo, ano, tipo_motor=\"combustão\", tipo_transmissao=\"manual\"):\n",
        "        self.marca = marca\n",
        "        self.modelo = modelo\n",
        "        self.ano = ano\n",
        "        self.motor = Motor(tipo_motor)\n",
        "        self.transmissao = Transmissao(tipo_transmissao)\n",
        "        self.velocidade = 0\n",
        "    \n",
        "    def iniciar(self):\n",
        "        self.motor.ligar()\n",
        "        self.transmissao.trocar_marcha(1)\n",
        "    \n",
        "    def parar(self):\n",
        "        self.transmissao.trocar_marcha(0)\n",
        "        self.motor.desligar()\n",
        "        self.velocidade = 0\n",
        "    \n",
        "    def acelerar(self, incremento=10):\n",
        "        if self.motor.ligado:\n",
        "            if self.transmissao.marcha_atual > 0:\n",
        "                self.velocidade += incremento\n",
        "                print(f\"Velocidade atual: {self.velocidade} km/h\")\n",
        "            else:\n",
        "                print(\"Não é possível acelerar em ponto morto!\")\n",
        "        else:\n",
        "            print(\"Primeiro ligue o motor!\")\n",
        "\n",
        "\n",
        "\n",
        "meu_carro = Carro(\"Toyota\", \"Corolla\", 2022)\n",
        "print(f\"Carro: {meu_carro.marca} {meu_carro.modelo} ({meu_carro.ano})\")\n",
        "meu_carro.iniciar()\n",
        "meu_carro.acelerar(20)\n",
        "meu_carro.parar()"
      ]
    },
    {
      "cell_type": "markdown",
      "metadata": {
        "id": "ZpYOQEyAideO"
      },
      "source": [
        "---\n",
        "\n",
        "### **8. Armadilhas Comuns**\n",
        "1. **Atributos de Classe Mutáveis**:"
      ]
    },
    {
      "cell_type": "code",
      "execution_count": null,
      "metadata": {
        "id": "Zjq2FRDhideO"
      },
      "outputs": [],
      "source": [
        "class MinhaClasse:\n",
        "       itens = []  # Compartilhado por todas as instâncias!"
      ]
    },
    {
      "cell_type": "markdown",
      "metadata": {
        "id": "J9qLSfRdideO"
      },
      "source": [
        "2. **Uso Excessivo de Herança**: Prefira composição para flexibilidade.\n",
        "3. **Ignorar `super()`**: Sempre use `super().__init__()` em classes filhas.\n",
        "\n",
        "---\n",
        "\n",
        "### **Exemplo Prático: Sistema de Gerenciamento de Funcionários**"
      ]
    },
    {
      "cell_type": "code",
      "execution_count": null,
      "metadata": {
        "id": "i7Qb813iideO"
      },
      "outputs": [],
      "source": [
        "class Funcionario:\n",
        "    def __init__(self, nome, cargo):\n",
        "        self.nome = nome\n",
        "        self.cargo = cargo\n",
        "\n",
        "    def obter_salario(self):\n",
        "        raise NotImplementedError(\"Subclasse deve implementar isto!\")\n",
        "\n",
        "class Gerente(Funcionario):\n",
        "    def obter_salario(self):\n",
        "        return 100000\n",
        "\n",
        "class Desenvolvedor(Funcionario):\n",
        "    def obter_salario(self):\n",
        "        return 80000\n",
        "\n",
        "gerente = Gerente(\"Alice\", \"CTO\")\n",
        "print(gerente.obter_salario())  # Saída: 100000"
      ]
    }
  ],
  "metadata": {
    "colab": {
      "provenance": []
    },
    "kernelspec": {
      "display_name": "Python 3 (ipykernel)",
      "language": "python",
      "name": "python3"
    },
    "language_info": {
      "codemirror_mode": {
        "name": "ipython",
        "version": 3
      },
      "file_extension": ".py",
      "mimetype": "text/x-python",
      "name": "python",
      "nbconvert_exporter": "python",
      "pygments_lexer": "ipython3",
      "version": "3.12.9"
    }
  },
  "nbformat": 4,
  "nbformat_minor": 0
}
